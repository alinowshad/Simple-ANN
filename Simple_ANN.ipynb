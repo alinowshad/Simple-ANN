{
 "cells": [
  {
   "cell_type": "markdown",
   "metadata": {},
   "source": [
    "# Simple Neural Network"
   ]
  },
  {
   "cell_type": "markdown",
   "metadata": {},
   "source": [
    "Our neural network would have three layers:\n",
    "1. Input layer\n",
    "2. Hidden layer with 3 neurons\n",
    "3. output layer"
   ]
  },
  {
   "cell_type": "markdown",
   "metadata": {},
   "source": [
    "<img src=\"ANN.png\" alt=\"Neural Network Architecture\" />"
   ]
  },
  {
   "cell_type": "markdown",
   "metadata": {},
   "source": [
    "1. We have predetermined input size. In our case it's two features, so input size is 3\n",
    "2. We have one hidden layer has 3 neurons\n",
    "3. We have predetermined output size\n",
    "\n",
    "It is possible to change every hardcoded parameters manually"
   ]
  },
  {
   "cell_type": "markdown",
   "metadata": {},
   "source": [
    "$$Z = W.A\\_prev + b$$  \n",
    "\n",
    "$$A = activation(Z)$$ \n",
    "$$\n",
    "W = W - \\alpha.{\\frac {dC}{dW}} \n",
    "$$ \n",
    "\n",
    "$$ \n",
    "b = b - \\alpha.{\\frac {db}{dW}}\n",
    "$$\n",
    "  \n",
    "$$\n",
    "C = \\frac1m\\sum{L(y_i, \\bar{y_i})}\n",
    "$$ "
   ]
  },
  {
   "cell_type": "markdown",
   "metadata": {},
   "source": [
    "$$\n",
    "\\frac {dC}{dA}: given\n",
    "$$  \n",
    "$$\n",
    "\\frac {dC}{dZ} = d\\_act(Z) . \\frac {dC}{dA}\n",
    "$$  \n",
    "$$\n",
    "\\frac {dC}{dW} = \\frac {dC}{dZ}.A\\_prev^T\n",
    "$$  \n",
    "$$\n",
    "\\frac {dC}{db} = \\frac {dC}{dZ}\n",
    "$$  \n",
    "$$\n",
    "\\frac {dC}{dA\\_prev} = W^T . \\frac {dC}{dZ}\n",
    "$$  "
   ]
  },
  {
   "cell_type": "code",
   "execution_count": 1,
   "metadata": {},
   "outputs": [],
   "source": [
    "import numpy as np\n",
    "import pandas as pd\n",
    "import matplotlib.pyplot as plt"
   ]
  },
  {
   "cell_type": "code",
   "execution_count": 2,
   "metadata": {},
   "outputs": [],
   "source": [
    "# Activation Functions\n",
    "def tanh(x):\n",
    "    return np.tanh(x)\n",
    "\n",
    "def d_tanh(x):\n",
    "    return 1 - np.square(np.tanh(x))\n",
    "\n",
    "def sigmoid(x):\n",
    "    return 1/(1 + np.exp(-x))\n",
    "\n",
    "def d_sigmoid(x):\n",
    "    return (1 - sigmoid(x)) * sigmoid(x)\n",
    "\n",
    "# Loss Functions \n",
    "def logloss(y, a):\n",
    "    return -(y*np.log(a) + (1-y)*np.log(1-a))\n",
    "\n",
    "def d_logloss(y, a):\n",
    "    return (a - y)/(a*(1 - a))"
   ]
  },
  {
   "cell_type": "code",
   "execution_count": 11,
   "metadata": {},
   "outputs": [],
   "source": [
    "# The layer class\n",
    "class Layer:\n",
    "\n",
    "    activationFunctions = {\n",
    "        'tanh': (tanh, d_tanh),\n",
    "        'sigmoid': (sigmoid, d_sigmoid)\n",
    "    }\n",
    "    learning_rate = 0.1\n",
    "\n",
    "    def __init__(self, inputs, neurons, activation):\n",
    "        self.W = np.random.randn(neurons, inputs)\n",
    "        self.b = np.zeros((neurons, 1))\n",
    "        self.act, self.d_act = self.activationFunctions.get(activation)\n",
    "\n",
    "    def feedforward(self, A_prev):\n",
    "        self.A_prev = A_prev\n",
    "        self.Z = np.dot(self.W, self.A_prev) + self.b\n",
    "        self.A = self.act(self.Z)\n",
    "        return self.A\n",
    "\n",
    "    def backprop(self, dA):\n",
    "        dZ = np.multiply(self.d_act(self.Z), dA)\n",
    "        dW = 1/dZ.shape[1] * np.dot(dZ, self.A_prev.T)\n",
    "        db = 1/dZ.shape[1] * np.sum(dZ, axis=1, keepdims=True)\n",
    "        dA_prev = np.dot(self.W.T, dZ)\n",
    "\n",
    "        self.W = self.W - self.learning_rate * dW\n",
    "        self.b = self.b - self.learning_rate * db\n",
    "\n",
    "        return dA_prev"
   ]
  },
  {
   "cell_type": "code",
   "execution_count": 16,
   "metadata": {},
   "outputs": [
    {
     "name": "stdout",
     "output_type": "stream",
     "text": [
      "[[0.21713432 0.63083068 0.69618826 0.17509246 0.6358483  0.69942444\n",
      "  0.1413229  0.62997417]]\n"
     ]
    }
   ],
   "source": [
    "x_train = np.array([[0, 0, 0, 0, 1, 1, 1, 1], [0, 0, 1, 1, 0, 0, 1, 1], [0, 1, 0, 1, 0, 1, 0, 1]]) # dim x m\n",
    "y_train = np.array([[0, 1, 1, 0, 1, 0, 0, 1]]) # 1 x m\n",
    "\n",
    "m = 8\n",
    "epochs = 1300\n",
    "\n",
    "layers = [Layer(3, 3, 'tanh'), Layer(3, 1, 'sigmoid')]\n",
    "costs = [] # to plot graph \n",
    "\n",
    "for epoch in range(epochs):\n",
    "    A = x_train\n",
    "    for layer in layers:\n",
    "        A = layer.feedforward(A)\n",
    "\n",
    "    cost = 1/m * np.sum(logloss(y_train, A))\n",
    "    costs.append(cost)\n",
    "\n",
    "    dA = d_logloss(y_train, A)\n",
    "    for layer in reversed(layers):\n",
    "        dA = layer.backprop(dA)\n",
    "\n",
    "\n",
    "# Making predictions\n",
    "A = x_train\n",
    "for layer in layers:\n",
    "    A = layer.feedforward(A)\n",
    "print(A)"
   ]
  },
  {
   "cell_type": "code",
   "execution_count": 17,
   "metadata": {},
   "outputs": [
    {
     "data": {
      "text/plain": [
       "[<matplotlib.lines.Line2D at 0x1fceedcedc0>]"
      ]
     },
     "execution_count": 17,
     "metadata": {},
     "output_type": "execute_result"
    },
    {
     "data": {
      "image/png": "[encoded data removed]",
      "text/plain": [
       "<Figure size 432x288 with 1 Axes>"
      ]
     },
     "metadata": {
      "needs_background": "light"
     },
     "output_type": "display_data"
    }
   ],
   "source": [
    "plt.plot(range(epochs), costs)"
   ]
  },
  {
   "cell_type": "markdown",
   "metadata": {},
   "source": [
    "###### After several training we can see that 0.4 considered as local minimum, because the ANN can be optimize better"
   ]
  },
  {
   "cell_type": "markdown",
   "metadata": {},
   "source": [
    "### Now lets check the weights and bias of hidden layer to see the functionality of each hidden neuron"
   ]
  },
  {
   "cell_type": "code",
   "execution_count": 18,
   "metadata": {},
   "outputs": [
    {
     "name": "stdout",
     "output_type": "stream",
     "text": [
      "[[ 1.45266202 -1.22962744  1.28145424]\n",
      " [ 2.38174465 -1.47160164  1.70729287]\n",
      " [-1.79446496  1.74922874 -1.71716886]]\n",
      "[[0.69746217]\n",
      " [0.72164131]\n",
      " [0.57504957]]\n",
      "[[-1.12657361 -1.46865637 -2.07018874]]\n",
      "[[1.37866979]]\n"
     ]
    }
   ],
   "source": [
    "for layer in layers:\n",
    "    print(layer.W)\n",
    "    print(layer.b)"
   ]
  },
  {
   "cell_type": "markdown",
   "metadata": {},
   "source": [
    "### Now lets construct the function of hidden units too see whats happening"
   ]
  },
  {
   "cell_type": "code",
   "execution_count": 19,
   "metadata": {},
   "outputs": [
    {
     "name": "stdout",
     "output_type": "stream",
     "text": [
      "Input Layer: \n",
      "sigmoid(X1 *  1.45266202  + X1 *  -1.22962744  + X1 *  1.28145424  +  0.69746217 )\n",
      "sigmoid(X2 *  2.38174465  + X2 *  -1.47160164  + X2 *  1.70729287  +  0.72164131 )\n",
      "sigmoid(X3 *  -1.79446496  + X3 *  1.74922874  + X3 *  -1.71716886  +  0.57504957 )\n",
      "---------------------------------------------------------------------------------------------------\n",
      "Hidden Layer: \n",
      "sigmoid(n1 *  -1.12657361  +  1.37866979 )\n",
      "sigmoid(n2 *  -1.46865637  +  1.37866979 )\n",
      "sigmoid(n3 *  -2.07018874  +  1.37866979 )\n"
     ]
    }
   ],
   "source": [
    "print(\"Input Layer: \")\n",
    "print(\"sigmoid(X1 * \", 1.45266202, \" + X1 * \", -1.22962744, \" + X1 * \", 1.28145424, \" + \", 0.69746217,\")\")\n",
    "print(\"sigmoid(X2 * \", 2.38174465, \" + X2 * \", -1.47160164, \" + X2 * \", 1.70729287, \" + \", 0.72164131,\")\")\n",
    "print(\"sigmoid(X3 * \", -1.79446496, \" + X3 * \", 1.74922874, \" + X3 * \", -1.71716886, \" + \", 0.57504957,\")\")\n",
    "print(\"---------------------------------------------------------------------------------------------------\")\n",
    "print(\"Hidden Layer: \")\n",
    "print(\"sigmoid(n1 * \", -1.12657361, \" + \", 1.37866979,\")\")\n",
    "print(\"sigmoid(n2 * \", -1.46865637,  \" + \", 1.37866979,\")\")\n",
    "print(\"sigmoid(n3 * \", -2.07018874, \" + \", 1.37866979,\")\")"
   ]
  },
  {
   "cell_type": "markdown",
   "metadata": {},
   "source": [
    "### Now lets check to see how many examples are properly classified"
   ]
  },
  {
   "cell_type": "code",
   "execution_count": 20,
   "metadata": {},
   "outputs": [
    {
     "name": "stdout",
     "output_type": "stream",
     "text": [
      "Predictions:  [0, 1, 1, 0, 1, 1, 0, 1]\n",
      "Expected:  [0 1 1 0 1 0 0 1]\n"
     ]
    }
   ],
   "source": [
    "y_pred = A[0]\n",
    "y_pred_bin = [0 if x < 0.5 else 1 for x in y_pred]\n",
    "print(\"Predictions: \", y_pred_bin)\n",
    "print(\"Expected: \", y_train[0])"
   ]
  },
  {
   "cell_type": "code",
   "execution_count": null,
   "metadata": {},
   "outputs": [],
   "source": []
  }
 ],
 "metadata": {
  "kernelspec": {
   "display_name": "Python 3",
   "language": "python",
   "name": "python3"
  },
  "language_info": {
   "codemirror_mode": {
    "name": "ipython",
    "version": 3
   },
   "file_extension": ".py",
   "mimetype": "text/x-python",
   "name": "python",
   "nbconvert_exporter": "python",
   "pygments_lexer": "ipython3",
   "version": "3.8.3"
  }
 },
 "nbformat": 4,
 "nbformat_minor": 4
}
